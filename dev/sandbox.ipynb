{
 "cells": [
  {
   "cell_type": "code",
   "execution_count": 34,
   "metadata": {},
   "outputs": [],
   "source": [
    "import pandas as pd\n",
    "import matplotlib.pyplot as plt\n",
    "from pandas.api.types import is_numeric_dtype, is_string_dtype, is_categorical_dtype\n",
    "import seaborn as sns\n",
    "import math\n",
    "import numpy as np\n",
    "from lightgbm import LGBMRegressor"
   ]
  },
  {
   "cell_type": "code",
   "execution_count": 42,
   "metadata": {},
   "outputs": [],
   "source": [
    "def values(model, X):\n",
    "\n",
    "    pd_dict = {}\n",
    "    for feat in X.columns:\n",
    "\n",
    "        _feat_df = X[[feat]].copy()\n",
    "        _oth_df = X[[i for i in X.columns if i != feat]].copy()\n",
    "\n",
    "        _feat_df[\"helper\"] = 1\n",
    "        _oth_df[\"helper\"] = 1\n",
    "        _pd_df = _feat_df.merge(_oth_df, how=\"left\", on=\"helper\").drop(\n",
    "            columns={\"helper\"}\n",
    "        )\n",
    "        _feat_df = _feat_df.drop(columns=['helper'])\n",
    "        _oth_df = _oth_df.drop(columns=['helper'])\n",
    "\n",
    "        if is_numeric_dtype(_pd_df[feat]):\n",
    "            if _pd_df[feat].nunique() > 10:\n",
    "                _pd_df = _pd_df[\n",
    "                        _pd_df[feat].between(\n",
    "                            _feat_df[feat].quantile(0.05), _feat_df[feat].quantile(0.95)\n",
    "                        )\n",
    "                    ]\n",
    "\n",
    "        _X = X.copy().drop_duplicates()\n",
    "        _X[\"train_hash\"] = pd.util.hash_pandas_object(_X, index=False)\n",
    "        _pd_df[\"hash\"] = pd.util.hash_pandas_object(_pd_df, index=False)\n",
    "        _pd_df = _pd_df.merge(_X[[\"train_hash\"]], how='left', left_on='hash', right_on='train_hash')\n",
    "        _pd_df[\"orig_row\"] = _pd_df[\"train_hash\"].isnull()*1\n",
    "        _pd_df = _pd_df.drop(columns=[\"train_hash\",\"hash\"])\n",
    "\n",
    "        if is_numeric_dtype(_pd_df[feat]):\n",
    "            # Train quantile regressors\n",
    "            lgb_lo = LGBMRegressor(objective='quantile', alpha=0.1).fit(_oth_df, _feat_df)\n",
    "            lgb_hi = LGBMRegressor(objective='quantile', alpha=0.9).fit(_oth_df, _feat_df)\n",
    "\n",
    "            _pd_df[\"lo_pred\"] = lgb_lo.predict(_pd_df[[i for i in X.columns if i != feat]])\n",
    "            _pd_df[\"hi_pred\"] = lgb_hi.predict(_pd_df[[i for i in X.columns if i != feat]])\n",
    "\n",
    "            _pd_df = _pd_df.drop(_pd_df[(_pd_df[\"orig_row\"]==0)&((_pd_df[feat] > _pd_df[\"hi_pred\"]) | (_pd_df[feat] < _pd_df[\"lo_pred\"]))].index)\n",
    "            _pd_df = _pd_df.drop(columns=[\"orig_row\",\"lo_pred\",\"hi_pred\"])\n",
    "        \n",
    "        _pd_df[\"pred\"] = model.predict_proba(_pd_df)[:, 1]\n",
    "\n",
    "        pd_dict[feat] = (\n",
    "                _pd_df.groupby(feat)[[\"pred\"]].mean().rename(columns={\"pred\": \"PD\"})\n",
    "            )\n",
    "\n",
    "    return pd_dict"
   ]
  },
  {
   "cell_type": "code",
   "execution_count": 43,
   "metadata": {},
   "outputs": [],
   "source": [
    "from sklearn.datasets import fetch_openml\n",
    "\n",
    "X, y = fetch_openml(\"titanic\", version=1, as_frame=True, return_X_y=True)\n",
    "X[\"y\"] = y\n",
    "X = X.dropna(subset={\"pclass\", \"age\", \"sibsp\", \"parch\", \"fare\"})\n",
    "y = X[\"y\"]\n",
    "X = X[[\"pclass\", \"age\", \"sibsp\", \"parch\", \"fare\"]]\n",
    "\n",
    "from sklearn.linear_model import LogisticRegression\n",
    "\n",
    "clf = LogisticRegression(random_state=0).fit(X, y)"
   ]
  },
  {
   "cell_type": "code",
   "execution_count": 44,
   "metadata": {},
   "outputs": [],
   "source": [
    "df = values(clf, X)"
   ]
  },
  {
   "cell_type": "code",
   "execution_count": null,
   "metadata": {},
   "outputs": [],
   "source": []
  }
 ],
 "metadata": {
  "kernelspec": {
   "display_name": "Python 3.9.7 64-bit",
   "metadata": {
    "interpreter": {
     "hash": "4458f6fd9d7f3f65be3f397b59f6cdd904117854c14c1148d5236e51a9948756"
    }
   },
   "name": "python3"
  },
  "language_info": {
   "codemirror_mode": {
    "name": "ipython",
    "version": 3
   },
   "file_extension": ".py",
   "mimetype": "text/x-python",
   "name": "python",
   "nbconvert_exporter": "python",
   "pygments_lexer": "ipython3",
   "version": "3.9.7"
  },
  "orig_nbformat": 2
 },
 "nbformat": 4,
 "nbformat_minor": 2
}